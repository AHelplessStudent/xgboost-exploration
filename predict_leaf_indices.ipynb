{
  "cells": [
    {
      "cell_type": "code",
      "execution_count": null,
      "metadata": {
        "collapsed": false
      },
      "outputs": [],
      "source": [
        "%matplotlib inline"
      ]
    },
    {
      "attachments": {},
      "cell_type": "markdown",
      "metadata": {},
      "source": [
        "\n",
        "# Demo for obtaining leaf index\n"
      ]
    },
    {
      "cell_type": "code",
      "execution_count": null,
      "metadata": {
        "collapsed": false
      },
      "outputs": [],
      "source": [
        "import os\n",
        "import xgboost as xgb\n",
        "\n",
        "# load data in do training\n",
        "CURRENT_DIR = os.path.dirname(__file__)\n",
        "dtrain = xgb.DMatrix(os.path.join(CURRENT_DIR, '../data/agaricus.txt.train'))\n",
        "dtest = xgb.DMatrix(os.path.join(CURRENT_DIR, '../data/agaricus.txt.test'))\n",
        "param = {'max_depth': 2, 'eta': 1, 'objective': 'binary:logistic'}\n",
        "watchlist = [(dtest, 'eval'), (dtrain, 'train')]\n",
        "num_round = 3\n",
        "bst = xgb.train(param, dtrain, num_round, watchlist)\n",
        "\n",
        "print('start testing predict the leaf indices')\n",
        "# predict using first 2 tree\n",
        "leafindex = bst.predict(\n",
        "    dtest, iteration_range=(0, 2), pred_leaf=True, strict_shape=True\n",
        ")\n",
        "print(leafindex.shape)\n",
        "print(leafindex)\n",
        "# predict all trees\n",
        "leafindex = bst.predict(dtest, pred_leaf=True)\n",
        "print(leafindex.shape)"
      ]
    }
  ],
  "metadata": {
    "kernelspec": {
      "display_name": "Python 3",
      "language": "python",
      "name": "python3"
    },
    "language_info": {
      "codemirror_mode": {
        "name": "ipython",
        "version": 3
      },
      "file_extension": ".py",
      "mimetype": "text/x-python",
      "name": "python",
      "nbconvert_exporter": "python",
      "pygments_lexer": "ipython3",
      "version": "3.9.7"
    }
  },
  "nbformat": 4,
  "nbformat_minor": 0
}
