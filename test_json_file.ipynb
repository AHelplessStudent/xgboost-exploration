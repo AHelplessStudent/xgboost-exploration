{
 "cells": [
  {
   "cell_type": "code",
   "execution_count": 1,
   "id": "d5809be6",
   "metadata": {},
   "outputs": [],
   "source": [
    "from xgboost import XGBClassifier\n",
    "from xgboost import plot_tree\n",
    "import xgboost as xgb\n",
    "# read data\n",
    "from sklearn.datasets import load_iris\n",
    "from sklearn.model_selection import train_test_split\n",
    "import pandas\n",
    "import json"
   ]
  },
  {
   "cell_type": "code",
   "execution_count": 2,
   "id": "f95111be",
   "metadata": {},
   "outputs": [],
   "source": [
    "with open('sample.json', 'r') as f:\n",
    "     newflie = json.load(f)"
   ]
  },
  {
   "cell_type": "code",
   "execution_count": 3,
   "id": "6c50a520",
   "metadata": {},
   "outputs": [
    {
     "data": {
      "text/plain": [
       "{'learner': {'attributes': {'best_iteration': '0',\n",
       "   'best_ntree_limit': '1',\n",
       "   'scikit_learn': '{\"use_label_encoder\": null, \"n_estimators\": 1, \"objective\": \"multi:softprob\", \"max_depth\": 3, \"max_leaves\": null, \"max_bin\": null, \"grow_policy\": null, \"learning_rate\": 1, \"verbosity\": null, \"booster\": null, \"tree_method\": null, \"gamma\": null, \"min_child_weight\": null, \"max_delta_step\": null, \"subsample\": null, \"sampling_method\": null, \"colsample_bytree\": null, \"colsample_bylevel\": null, \"colsample_bynode\": null, \"reg_alpha\": null, \"reg_lambda\": null, \"scale_pos_weight\": null, \"base_score\": null, \"missing\": NaN, \"num_parallel_tree\": null, \"random_state\": null, \"n_jobs\": null, \"monotone_constraints\": null, \"interaction_constraints\": null, \"importance_type\": null, \"gpu_id\": null, \"validate_parameters\": null, \"predictor\": null, \"enable_categorical\": false, \"feature_types\": null, \"max_cat_to_onehot\": null, \"max_cat_threshold\": null, \"eval_metric\": null, \"early_stopping_rounds\": null, \"callbacks\": null, \"classes_\": [0, 1, 2], \"n_classes_\": 3, \"_estimator_type\": \"classifier\"}'},\n",
       "  'feature_names': [],\n",
       "  'feature_types': [],\n",
       "  'gradient_booster': {'model': {'gbtree_model_param': {'num_parallel_tree': '1',\n",
       "     'num_trees': '3',\n",
       "     'size_leaf_vector': '0'},\n",
       "    'tree_info': [0, 1, 2],\n",
       "    'trees': [{'base_weights': [-4.388072e-08],\n",
       "      'categories': [],\n",
       "      'categories_nodes': [],\n",
       "      'categories_segments': [],\n",
       "      'categories_sizes': [],\n",
       "      'default_left': [0],\n",
       "      'id': 0,\n",
       "      'left_children': [-1],\n",
       "      'loss_changes': [57.32271],\n",
       "      'parents': [2147483647],\n",
       "      'right_children': [-1],\n",
       "      'split_conditions': [2.45],\n",
       "      'split_indices': [0],\n",
       "      'split_type': [0],\n",
       "      'sum_hessian': [53.33333],\n",
       "      'tree_param': {'num_deleted': '0',\n",
       "       'num_feature': '4',\n",
       "       'num_nodes': '1',\n",
       "       'size_leaf_vector': '0'}},\n",
       "     {'base_weights': [0.018404864,\n",
       "       -0.7100592,\n",
       "       0.39209723,\n",
       "       1.1904762,\n",
       "       -0.64429533,\n",
       "       1.3636364,\n",
       "       -3.2511625e-08,\n",
       "       -2.5544848e-08,\n",
       "       -0.70072997],\n",
       "      'categories': [],\n",
       "      'categories_nodes': [],\n",
       "      'categories_segments': [],\n",
       "      'categories_sizes': [],\n",
       "      'default_left': [1, 0, 1, 1, 1, 0, 0, 0, 0],\n",
       "      'id': 1,\n",
       "      'left_children': [1, -1, 3, 5, 7, -1, -1, -1, -1],\n",
       "      'loss_changes': [15.069112,\n",
       "       0.0,\n",
       "       31.014328,\n",
       "       4.3290043,\n",
       "       0.6019697,\n",
       "       0.0,\n",
       "       0.0,\n",
       "       0.0,\n",
       "       0.0],\n",
       "      'parents': [2147483647, 0, 0, 2, 2, 3, 3, 4, 4],\n",
       "      'right_children': [2, -1, 4, 6, 8, -1, -1, -1, -1],\n",
       "      'split_conditions': [2.45,\n",
       "       -0.7100592,\n",
       "       1.75,\n",
       "       4.95,\n",
       "       4.8500004,\n",
       "       1.3636364,\n",
       "       -3.2511625e-08,\n",
       "       -2.5544848e-08,\n",
       "       -0.70072997],\n",
       "      'split_indices': [2, 0, 3, 2, 2, 0, 0, 0, 0],\n",
       "      'split_type': [0, 0, 0, 0, 0, 0, 0, 0, 0],\n",
       "      'sum_hessian': [53.33333,\n",
       "       17.777777,\n",
       "       35.555553,\n",
       "       19.999998,\n",
       "       15.555554,\n",
       "       17.333332,\n",
       "       2.6666665,\n",
       "       1.3333333,\n",
       "       14.222221],\n",
       "      'tree_param': {'num_deleted': '0',\n",
       "       'num_feature': '4',\n",
       "       'num_nodes': '9',\n",
       "       'size_leaf_vector': '0'}},\n",
       "     {'base_weights': [-0.018404953,\n",
       "       -0.70031554,\n",
       "       1.1767956,\n",
       "       -0.72631586,\n",
       "       -0.3658537,\n",
       "       0.2926829,\n",
       "       1.3489933,\n",
       "       -2.5544848e-08,\n",
       "       -0.5172414,\n",
       "       -0.12000003,\n",
       "       0.59999996,\n",
       "       0.4285714,\n",
       "       1.4014598],\n",
       "      'categories': [],\n",
       "      'categories_nodes': [],\n",
       "      'categories_segments': [],\n",
       "      'categories_sizes': [],\n",
       "      'default_left': [1, 1, 1, 0, 1, 1, 1, 0, 0, 0, 0, 0, 0],\n",
       "      'id': 2,\n",
       "      'left_children': [1, 3, 5, -1, 7, 9, 11, -1, -1, -1, -1, -1, -1],\n",
       "      'loss_changes': [45.10687,\n",
       "       0.040575027,\n",
       "       2.666933,\n",
       "       0.0,\n",
       "       0.25231284,\n",
       "       0.6497562,\n",
       "       0.19886589,\n",
       "       0.0,\n",
       "       0.0,\n",
       "       0.0,\n",
       "       0.0,\n",
       "       0.0,\n",
       "       0.0],\n",
       "      'parents': [2147483647, 0, 0, 1, 1, 2, 2, 4, 4, 5, 5, 6, 6],\n",
       "      'right_children': [2, 4, 6, -1, 8, 10, 12, -1, -1, -1, -1, -1, -1],\n",
       "      'split_conditions': [4.75,\n",
       "       1.45,\n",
       "       1.75,\n",
       "       -0.72631586,\n",
       "       5.75,\n",
       "       5.05,\n",
       "       4.8500004,\n",
       "       -2.5544848e-08,\n",
       "       -0.5172414,\n",
       "       -0.12000003,\n",
       "       0.59999996,\n",
       "       0.4285714,\n",
       "       1.4014598],\n",
       "      'split_indices': [2, 3, 3, 0, 0, 2, 2, 0, 0, 0, 0, 0, 0],\n",
       "      'split_type': [0, 0, 0, 0, 0, 0, 0, 0, 0, 0, 0, 0, 0],\n",
       "      'sum_hessian': [53.33333,\n",
       "       34.22222,\n",
       "       19.11111,\n",
       "       30.666664,\n",
       "       3.5555553,\n",
       "       3.5555553,\n",
       "       15.555554,\n",
       "       1.3333333,\n",
       "       2.222222,\n",
       "       1.7777777,\n",
       "       1.7777777,\n",
       "       1.3333333,\n",
       "       14.222221],\n",
       "      'tree_param': {'num_deleted': '0',\n",
       "       'num_feature': '4',\n",
       "       'num_nodes': '13',\n",
       "       'size_leaf_vector': '0'}}]},\n",
       "   'name': 'gbtree'},\n",
       "  'learner_model_param': {'base_score': '5E-1',\n",
       "   'boost_from_average': '1',\n",
       "   'num_class': '3',\n",
       "   'num_feature': '4',\n",
       "   'num_target': '1'},\n",
       "  'objective': {'name': 'multi:softprob',\n",
       "   'softmax_multiclass_param': {'num_class': '3'}}},\n",
       " 'version': [1, 7, 5]}"
      ]
     },
     "execution_count": 3,
     "metadata": {},
     "output_type": "execute_result"
    }
   ],
   "source": [
    "newflie"
   ]
  },
  {
   "cell_type": "code",
   "execution_count": 4,
   "id": "16650a91",
   "metadata": {},
   "outputs": [],
   "source": [
    "\n",
    "data = load_iris()\n",
    "X_train, X_test, y_train, y_test = train_test_split(\n",
    "    data['data'], data['target'], test_size=.2, random_state=42)"
   ]
  },
  {
   "cell_type": "code",
   "execution_count": 4,
   "id": "bdd04e62",
   "metadata": {},
   "outputs": [],
   "source": [
    "model_xgb_2 = xgb.XGBClassifier()\n",
    "model_xgb_2.load_model(\"sample.json\")\n"
   ]
  },
  {
   "cell_type": "code",
   "execution_count": 5,
   "id": "467c2f2a",
   "metadata": {},
   "outputs": [
    {
     "data": {
      "text/plain": [
       "<AxesSubplot:>"
      ]
     },
     "execution_count": 5,
     "metadata": {},
     "output_type": "execute_result"
    },
    {
     "data": {
      "image/png": "[encoded data removed]",
      "text/plain": [
       "<Figure size 432x288 with 1 Axes>"
      ]
     },
     "metadata": {
      "needs_background": "light"
     },
     "output_type": "display_data"
    }
   ],
   "source": [
    "xgb.plot_tree(model_xgb_2,num_trees=0)"
   ]
  },
  {
   "cell_type": "code",
   "execution_count": null,
   "id": "5cedf5ee",
   "metadata": {},
   "outputs": [],
   "source": [
    "# TODO writing the json in code causes Integer to become number or vise versa ?? "
   ]
  }
 ],
 "metadata": {
  "kernelspec": {
   "display_name": "Python 3",
   "language": "python",
   "name": "python3"
  },
  "language_info": {
   "codemirror_mode": {
    "name": "ipython",
    "version": 3
   },
   "file_extension": ".py",
   "mimetype": "text/x-python",
   "name": "python",
   "nbconvert_exporter": "python",
   "pygments_lexer": "ipython3",
   "version": "3.9.7"
  }
 },
 "nbformat": 4,
 "nbformat_minor": 5
}
