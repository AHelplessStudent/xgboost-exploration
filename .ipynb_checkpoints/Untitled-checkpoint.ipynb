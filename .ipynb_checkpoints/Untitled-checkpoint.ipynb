{
 "cells": [
  {
   "cell_type": "code",
   "execution_count": null,
   "id": "acc3a6de",
   "metadata": {},
   "outputs": [],
   "source": []
  },
  {
   "cell_type": "code",
   "execution_count": 1,
   "id": "4b61e4c9",
   "metadata": {},
   "outputs": [],
   "source": [
    "from xgboost import XGBClassifier\n",
    "from xgboost import plot_tree\n",
    "import xgboost as xgb\n",
    "# read data\n",
    "from sklearn.datasets import load_iris\n",
    "from sklearn.model_selection import train_test_split"
   ]
  },
  {
   "cell_type": "code",
   "execution_count": 2,
   "id": "858c5786",
   "metadata": {},
   "outputs": [],
   "source": [
    "\n",
    "data = load_iris()\n",
    "X_train, X_test, y_train, y_test = train_test_split(\n",
    "    data['data'], data['target'], test_size=.2)"
   ]
  },
  {
   "cell_type": "code",
   "execution_count": 3,
   "id": "cc7bb755",
   "metadata": {},
   "outputs": [],
   "source": [
    "\n",
    "\n",
    "# create model instance\n",
    "bst = XGBClassifier(n_estimators=2, max_depth=2,\n",
    "                    learning_rate=1, objective='binary:logistic')\n",
    "# fit model\n",
    "bst.fit(X_train, y_train)\n",
    "# make predictions\n",
    "preds = bst.predict(X_test)\n"
   ]
  },
  {
   "cell_type": "code",
   "execution_count": 4,
   "id": "32e432d2",
   "metadata": {},
   "outputs": [],
   "source": [
    "#xgb.plot_importance(bst)"
   ]
  },
  {
   "cell_type": "code",
   "execution_count": null,
   "id": "f853b767",
   "metadata": {},
   "outputs": [],
   "source": [
    "for i in range(6):\n",
    "    xgb.plot_tree(bst, num_trees=i)"
   ]
  },
  {
   "cell_type": "code",
   "execution_count": null,
   "id": "6494de96",
   "metadata": {},
   "outputs": [],
   "source": []
  },
  {
   "cell_type": "code",
   "execution_count": null,
   "id": "aea4e000",
   "metadata": {},
   "outputs": [],
   "source": []
  },
  {
   "cell_type": "code",
   "execution_count": 5,
   "id": "bd0faa79",
   "metadata": {},
   "outputs": [
    {
     "name": "stdout",
     "output_type": "stream",
     "text": [
      "0:[f2<2.45000005] yes=1,no=2,missing=1\n",
      "\t1:leaf=1.41818178\n",
      "\t2:leaf=-0.729729772\n",
      "\n"
     ]
    }
   ],
   "source": [
    "trees = bst.get_booster().get_dump()\n",
    "print(trees[0])"
   ]
  },
  {
   "cell_type": "code",
   "execution_count": 6,
   "id": "c950a1bc",
   "metadata": {},
   "outputs": [
    {
     "name": "stdout",
     "output_type": "stream",
     "text": [
      "0:[f2<2.45000005] yes=1,no=2,missing=1\n",
      "\t1:leaf=1.41818178\n",
      "\t2:leaf=-0.729729772\n",
      "\n",
      "0:[f2<2.45000005] yes=1,no=2,missing=1\n",
      "\t1:leaf=-0.709090948\n",
      "\t2:[f2<4.94999981] yes=3,no=4,missing=3\n",
      "\t\t3:leaf=1.19047618\n",
      "\t\t4:leaf=-0.647058904\n",
      "\n",
      "0:[f2<4.75] yes=1,no=2,missing=1\n",
      "\t1:[f3<1.54999995] yes=3,no=4,missing=3\n",
      "\t\t3:leaf=-0.727574825\n",
      "\t\t4:leaf=-2.5544848e-08\n",
      "\t2:[f2<4.94999981] yes=5,no=6,missing=5\n",
      "\t\t5:leaf=0.292682886\n",
      "\t\t6:leaf=1.35294116\n",
      "\n",
      "0:[f2<2.45000005] yes=1,no=2,missing=1\n",
      "\t1:leaf=0.570723355\n",
      "\t2:leaf=-0.524162471\n",
      "\n",
      "0:[f3<1.75] yes=1,no=2,missing=1\n",
      "\t1:[f2<2.45000005] yes=3,no=4,missing=3\n",
      "\t\t3:leaf=-0.482347488\n",
      "\t\t4:leaf=0.554665446\n",
      "\t2:[f1<3.1500001] yes=5,no=6,missing=5\n",
      "\t\t5:leaf=-0.703810453\n",
      "\t\t6:leaf=-0.212545186\n",
      "\n",
      "0:[f3<1.75] yes=1,no=2,missing=1\n",
      "\t1:[f2<4.94999981] yes=3,no=4,missing=3\n",
      "\t\t3:leaf=-0.477570921\n",
      "\t\t4:leaf=0.0119558601\n",
      "\t2:[f1<3.1500001] yes=5,no=6,missing=5\n",
      "\t\t5:leaf=0.772812188\n",
      "\t\t6:leaf=0.386304349\n",
      "\n"
     ]
    }
   ],
   "source": [
    "for i in trees:\n",
    "    print(i)"
   ]
  },
  {
   "cell_type": "code",
   "execution_count": null,
   "id": "1858b5c1",
   "metadata": {
    "scrolled": true
   },
   "outputs": [],
   "source": [
    "trees2 = model2.get_booster().get_dump()\n",
    "print(trees2[0])"
   ]
  },
  {
   "cell_type": "code",
   "execution_count": null,
   "id": "7ba0f311",
   "metadata": {},
   "outputs": [],
   "source": [
    "preds = model2.predict(X_test)"
   ]
  },
  {
   "cell_type": "code",
   "execution_count": null,
   "id": "28f4f151",
   "metadata": {},
   "outputs": [],
   "source": []
  },
  {
   "cell_type": "code",
   "execution_count": 33,
   "id": "645e6bd4",
   "metadata": {},
   "outputs": [],
   "source": [
    "import pprint"
   ]
  },
  {
   "cell_type": "code",
   "execution_count": 34,
   "id": "78751eb4",
   "metadata": {},
   "outputs": [
    {
     "name": "stdout",
     "output_type": "stream",
     "text": [
      "0:[f2<2.5999999] yes=1,no=2,missing=1\n",
      "\t1:leaf=1.41614902\n",
      "\t2:leaf=-0.729970396\n",
      "\n"
     ]
    }
   ],
   "source": [
    "print(trees[0])"
   ]
  },
  {
   "cell_type": "code",
   "execution_count": 7,
   "id": "e0f4116e",
   "metadata": {},
   "outputs": [],
   "source": [
    "# Use \"gpu_hist\" for training the model.\n",
    "#reg = xgb.XGBRegressor(tree_method=\"gpu_hist\")\n",
    "# Fit the model using predictor X and response y.\n",
    "#reg.fit(X, y)\n",
    "# Save model into JSON format.\n",
    "bst.save_model(\"bst.json\")"
   ]
  },
  {
   "cell_type": "code",
   "execution_count": null,
   "id": "fb318ace",
   "metadata": {},
   "outputs": [],
   "source": []
  }
 ],
 "metadata": {
  "kernelspec": {
   "display_name": "Python 3",
   "language": "python",
   "name": "python3"
  },
  "language_info": {
   "codemirror_mode": {
    "name": "ipython",
    "version": 3
   },
   "file_extension": ".py",
   "mimetype": "text/x-python",
   "name": "python",
   "nbconvert_exporter": "python",
   "pygments_lexer": "ipython3",
   "version": "3.11.0"
  }
 },
 "nbformat": 4,
 "nbformat_minor": 5
}
