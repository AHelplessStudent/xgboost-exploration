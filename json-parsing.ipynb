{
 "cells": [
  {
   "cell_type": "code",
   "execution_count": 1,
   "id": "46863391",
   "metadata": {},
   "outputs": [],
   "source": [
    "from xgboost import XGBClassifier\n",
    "from xgboost import plot_tree\n",
    "import xgboost as xgb\n",
    "# read data\n",
    "from sklearn.datasets import load_iris\n",
    "from sklearn.model_selection import train_test_split\n",
    "import pandas"
   ]
  },
  {
   "cell_type": "code",
   "execution_count": 2,
   "id": "29d068c9",
   "metadata": {},
   "outputs": [],
   "source": [
    "import json"
   ]
  },
  {
   "cell_type": "code",
   "execution_count": 3,
   "id": "fe4b255f",
   "metadata": {},
   "outputs": [],
   "source": [
    "with open('bst.json', 'r') as f:\n",
    "     jfile = json.load(f)"
   ]
  },
  {
   "cell_type": "code",
   "execution_count": 4,
   "id": "36e4b2db",
   "metadata": {},
   "outputs": [],
   "source": [
    "\n",
    "data = load_iris()\n",
    "X_train, X_test, y_train, y_test = train_test_split(\n",
    "    data['data'], data['target'], test_size=.2, random_state=42)"
   ]
  },
  {
   "cell_type": "code",
   "execution_count": 5,
   "id": "cf88c800",
   "metadata": {
    "scrolled": true
   },
   "outputs": [
    {
     "data": {
      "text/plain": [
       "{'learner': {'attributes': {'best_iteration': '0',\n",
       "   'best_ntree_limit': '1',\n",
       "   'scikit_learn': '{\"use_label_encoder\": null, \"n_estimators\": 1, \"objective\": \"multi:softprob\", \"max_depth\": 3, \"max_leaves\": null, \"max_bin\": null, \"grow_policy\": null, \"learning_rate\": 1, \"verbosity\": null, \"booster\": null, \"tree_method\": null, \"gamma\": null, \"min_child_weight\": null, \"max_delta_step\": null, \"subsample\": null, \"sampling_method\": null, \"colsample_bytree\": null, \"colsample_bylevel\": null, \"colsample_bynode\": null, \"reg_alpha\": null, \"reg_lambda\": null, \"scale_pos_weight\": null, \"base_score\": null, \"missing\": NaN, \"num_parallel_tree\": null, \"random_state\": null, \"n_jobs\": null, \"monotone_constraints\": null, \"interaction_constraints\": null, \"importance_type\": null, \"gpu_id\": null, \"validate_parameters\": null, \"predictor\": null, \"enable_categorical\": false, \"feature_types\": null, \"max_cat_to_onehot\": null, \"max_cat_threshold\": null, \"eval_metric\": null, \"early_stopping_rounds\": null, \"callbacks\": null, \"classes_\": [0, 1, 2], \"n_classes_\": 3, \"_estimator_type\": \"classifier\"}'},\n",
       "  'feature_names': [],\n",
       "  'feature_types': [],\n",
       "  'gradient_booster': {'model': {'gbtree_model_param': {'num_parallel_tree': '1',\n",
       "     'num_trees': '3',\n",
       "     'size_leaf_vector': '0'},\n",
       "    'tree_info': [0, 1, 2],\n",
       "    'trees': [{'base_weights': [-0.07317077, 1.3846154, -0.724138],\n",
       "      'categories': [],\n",
       "      'categories_nodes': [],\n",
       "      'categories_segments': [],\n",
       "      'categories_sizes': [],\n",
       "      'default_left': [1, 0, 0],\n",
       "      'id': 0,\n",
       "      'left_children': [1, -1, -1],\n",
       "      'loss_changes': [39.91046, 0.0, 0.0],\n",
       "      'parents': [2147483647, 0, 0],\n",
       "      'right_children': [2, -1, -1],\n",
       "      'split_conditions': [2.45, 1.3846154, -0.724138],\n",
       "      'split_indices': [2, 0, 0],\n",
       "      'split_type': [0, 0, 0],\n",
       "      'sum_hessian': [39.999996, 11.999999, 27.999998],\n",
       "      'tree_param': {'num_deleted': '0',\n",
       "       'num_feature': '4',\n",
       "       'num_nodes': '3',\n",
       "       'size_leaf_vector': '0'}},\n",
       "     {'base_weights': [0.0243902,\n",
       "       -0.6923078,\n",
       "       0.34482756,\n",
       "       1.1586207,\n",
       "       -0.6240001,\n",
       "       1.3199999,\n",
       "       0.10344825,\n",
       "       -2.5544848e-08,\n",
       "       -0.69026554],\n",
       "      'categories': [],\n",
       "      'categories_nodes': [],\n",
       "      'categories_segments': [],\n",
       "      'categories_sizes': [],\n",
       "      'default_left': [1, 0, 1, 1, 1, 0, 0, 0, 0],\n",
       "      'id': 1,\n",
       "      'left_children': [1, -1, 3, 5, 7, -1, -1, -1, -1],\n",
       "      'loss_changes': [9.6546545,\n",
       "       0.0,\n",
       "       23.58731,\n",
       "       2.6068974,\n",
       "       0.57430077,\n",
       "       0.0,\n",
       "       0.0,\n",
       "       0.0,\n",
       "       0.0],\n",
       "      'parents': [2147483647, 0, 0, 2, 2, 3, 3, 4, 4],\n",
       "      'right_children': [2, -1, 4, 6, 8, -1, -1, -1, -1],\n",
       "      'split_conditions': [2.45,\n",
       "       -0.6923078,\n",
       "       1.75,\n",
       "       4.95,\n",
       "       4.8500004,\n",
       "       1.3199999,\n",
       "       0.10344825,\n",
       "       -2.5544848e-08,\n",
       "       -0.69026554],\n",
       "      'split_indices': [2, 0, 3, 2, 2, 0, 0, 0, 0],\n",
       "      'split_type': [0, 0, 0, 0, 0, 0, 0, 0, 0],\n",
       "      'sum_hessian': [39.999996,\n",
       "       11.999999,\n",
       "       27.999998,\n",
       "       15.111111,\n",
       "       12.888888,\n",
       "       12.888888,\n",
       "       2.222222,\n",
       "       1.3333333,\n",
       "       11.555555],\n",
       "      'tree_param': {'num_deleted': '0',\n",
       "       'num_feature': '4',\n",
       "       'num_nodes': '9',\n",
       "       'size_leaf_vector': '0'}},\n",
       "     {'base_weights': [0.048780445,\n",
       "       -0.6455697,\n",
       "       1.2127659,\n",
       "       -0.7194571,\n",
       "       0.23999998,\n",
       "       0.23999998,\n",
       "       1.3199999,\n",
       "       0.4285714,\n",
       "       1.380531],\n",
       "      'categories': [],\n",
       "      'categories_nodes': [],\n",
       "      'categories_segments': [],\n",
       "      'categories_sizes': [],\n",
       "      'default_left': [1, 1, 1, 0, 0, 0, 1, 0, 0],\n",
       "      'id': 2,\n",
       "      'left_children': [1, 3, 5, -1, -1, -1, 7, -1, -1],\n",
       "      'loss_changes': [33.919674,\n",
       "       1.8957224,\n",
       "       1.3174477,\n",
       "       0.0,\n",
       "       0.0,\n",
       "       0.0,\n",
       "       0.15777206,\n",
       "       0.0,\n",
       "       0.0],\n",
       "      'parents': [2147483647, 0, 0, 1, 1, 2, 2, 6, 6],\n",
       "      'right_children': [2, 4, 6, -1, -1, -1, 8, -1, -1],\n",
       "      'split_conditions': [1.55,\n",
       "       4.8,\n",
       "       1.75,\n",
       "       -0.7194571,\n",
       "       0.23999998,\n",
       "       0.23999998,\n",
       "       4.8500004,\n",
       "       0.4285714,\n",
       "       1.380531],\n",
       "      'split_indices': [3, 2, 3, 0, 0, 0, 2, 0, 0],\n",
       "      'split_type': [0, 0, 0, 0, 0, 0, 0, 0, 0],\n",
       "      'sum_hessian': [39.999996,\n",
       "       25.333332,\n",
       "       14.666666,\n",
       "       23.555553,\n",
       "       1.7777777,\n",
       "       1.7777777,\n",
       "       12.888888,\n",
       "       1.3333333,\n",
       "       11.555555],\n",
       "      'tree_param': {'num_deleted': '0',\n",
       "       'num_feature': '4',\n",
       "       'num_nodes': '9',\n",
       "       'size_leaf_vector': '0'}}]},\n",
       "   'name': 'gbtree'},\n",
       "  'learner_model_param': {'base_score': '5E-1',\n",
       "   'boost_from_average': '1',\n",
       "   'num_class': '3',\n",
       "   'num_feature': '4',\n",
       "   'num_target': '1'},\n",
       "  'objective': {'name': 'multi:softprob',\n",
       "   'softmax_multiclass_param': {'num_class': '3'}}},\n",
       " 'version': [1, 7, 5]}"
      ]
     },
     "execution_count": 5,
     "metadata": {},
     "output_type": "execute_result"
    }
   ],
   "source": [
    "jfile"
   ]
  },
  {
   "cell_type": "code",
   "execution_count": 6,
   "id": "20fdbb1d",
   "metadata": {},
   "outputs": [
    {
     "data": {
      "text/plain": [
       "dict_keys(['learner', 'version'])"
      ]
     },
     "execution_count": 6,
     "metadata": {},
     "output_type": "execute_result"
    }
   ],
   "source": [
    "jfile.keys()"
   ]
  },
  {
   "cell_type": "code",
   "execution_count": 7,
   "id": "f4dcbfd9",
   "metadata": {},
   "outputs": [
    {
     "data": {
      "text/plain": [
       "dict_keys(['attributes', 'feature_names', 'feature_types', 'gradient_booster', 'learner_model_param', 'objective'])"
      ]
     },
     "execution_count": 7,
     "metadata": {},
     "output_type": "execute_result"
    }
   ],
   "source": [
    "jfile[\"learner\"].keys()"
   ]
  },
  {
   "cell_type": "code",
   "execution_count": 8,
   "id": "094a24bc",
   "metadata": {},
   "outputs": [
    {
     "data": {
      "text/plain": [
       "dict_keys(['gbtree_model_param', 'tree_info', 'trees'])"
      ]
     },
     "execution_count": 8,
     "metadata": {},
     "output_type": "execute_result"
    }
   ],
   "source": [
    "jfile[\"learner\"][\"gradient_booster\"][\"model\"].keys()"
   ]
  },
  {
   "cell_type": "code",
   "execution_count": 9,
   "id": "03444213",
   "metadata": {},
   "outputs": [],
   "source": [
    "ts = jfile[\"learner\"][\"gradient_booster\"][\"model\"][\"trees\"]"
   ]
  },
  {
   "cell_type": "code",
   "execution_count": 10,
   "id": "2572c702",
   "metadata": {},
   "outputs": [
    {
     "data": {
      "text/plain": [
       "{'base_weights': [-0.07317077, 1.3846154, -0.724138],\n",
       " 'categories': [],\n",
       " 'categories_nodes': [],\n",
       " 'categories_segments': [],\n",
       " 'categories_sizes': [],\n",
       " 'default_left': [1, 0, 0],\n",
       " 'id': 0,\n",
       " 'left_children': [1, -1, -1],\n",
       " 'loss_changes': [39.91046, 0.0, 0.0],\n",
       " 'parents': [2147483647, 0, 0],\n",
       " 'right_children': [2, -1, -1],\n",
       " 'split_conditions': [2.45, 1.3846154, -0.724138],\n",
       " 'split_indices': [2, 0, 0],\n",
       " 'split_type': [0, 0, 0],\n",
       " 'sum_hessian': [39.999996, 11.999999, 27.999998],\n",
       " 'tree_param': {'num_deleted': '0',\n",
       "  'num_feature': '4',\n",
       "  'num_nodes': '3',\n",
       "  'size_leaf_vector': '0'}}"
      ]
     },
     "execution_count": 10,
     "metadata": {},
     "output_type": "execute_result"
    }
   ],
   "source": [
    "t = ts[0]\n",
    "t"
   ]
  },
  {
   "cell_type": "code",
   "execution_count": 11,
   "id": "3c02025e",
   "metadata": {},
   "outputs": [],
   "source": [
    "\"\"\"Demonstration for parsing JSON/UBJSON tree model file generated by XGBoost.\n",
    "\"\"\"\n",
    "\n",
    "import argparse\n",
    "import json\n",
    "from dataclasses import dataclass\n",
    "from enum import IntEnum, unique\n",
    "from typing import Any, Dict, List, Sequence, Union\n",
    "\n",
    "import numpy as np\n",
    "\n",
    "try:\n",
    "    import ubjson\n",
    "except ImportError:\n",
    "    ubjson = None\n",
    "\n",
    "\n",
    "ParamT = Dict[str, str]\n",
    "\n",
    "\n",
    "def to_integers(data: Union[bytes, List[int]]) -> List[int]:\n",
    "    \"\"\"Convert a sequence of bytes to a list of Python integer\"\"\"\n",
    "    return [v for v in data]\n",
    "\n",
    "\n",
    "\n",
    "\n",
    "@dataclass\n",
    "class Node:\n",
    "    # properties\n",
    "    left: int\n",
    "    right: int\n",
    "    parent: int\n",
    "    split_idx: int\n",
    "    split_cond: float\n",
    "    default_left: int\n",
    "    split_type: List[int]\n",
    "    categories: List[int]\n",
    "    categories_nodes : List[int]\n",
    "    categories_segments : List[int]\n",
    "    categories_sizes : List[int]\n",
    "    # statistic\n",
    "    base_weight: float\n",
    "    loss_chg: float\n",
    "    sum_hess: float\n",
    "\n",
    "\n",
    "\n",
    "class Tree:\n",
    "    \"\"\"A tree built by XGBoost.\"\"\"\n",
    "\n",
    "    def __init__(self, tree_id: int, nodes: Sequence[Node], tree_param) -> None:\n",
    "        self.tree_id = tree_id\n",
    "        self.nodes = nodes\n",
    "        self.tree_param = tree_param\n",
    "        # TODO Add tree params\n",
    "\n",
    "    def loss_change(self, node_id: int) -> float:\n",
    "        \"\"\"Loss gain of a node.\"\"\"\n",
    "        return self.nodes[node_id].loss_chg\n",
    "\n",
    "    def sum_hessian(self, node_id: int) -> float:\n",
    "        \"\"\"Sum Hessian of a node.\"\"\"\n",
    "        return self.nodes[node_id].sum_hess\n",
    "\n",
    "    def base_weight(self, node_id: int) -> float:\n",
    "        \"\"\"Base weight of a node.\"\"\"\n",
    "        return self.nodes[node_id].base_weight\n",
    "\n",
    "    def split_index(self, node_id: int) -> int:\n",
    "        \"\"\"Split feature index of node.\"\"\"\n",
    "        return self.nodes[node_id].split_idx\n",
    "\n",
    "    def split_condition(self, node_id: int) -> float:\n",
    "        \"\"\"Split value of a node.\"\"\"\n",
    "        return self.nodes[node_id].split_cond\n",
    "\n",
    "    def split_categories(self, node_id: int) -> List[int]:\n",
    "        \"\"\"Categories in a node.\"\"\"\n",
    "        return self.nodes[node_id].categories\n",
    "\n",
    "    def is_categorical(self, node_id: int) -> bool:\n",
    "        \"\"\"Whether a node has categorical split.\"\"\"\n",
    "        return self.nodes[node_id].split_type == 1\n",
    "\n",
    "    def is_numerical(self, node_id: int) -> bool:\n",
    "        return not self.is_categorical(node_id)\n",
    "\n",
    "    def parent(self, node_id: int) -> int:\n",
    "        \"\"\"Parent ID of a node.\"\"\"\n",
    "        return self.nodes[node_id].parent\n",
    "\n",
    "    def left_child(self, node_id: int) -> int:\n",
    "        \"\"\"Left child ID of a node.\"\"\"\n",
    "        return self.nodes[node_id].left\n",
    "\n",
    "    def right_child(self, node_id: int) -> int:\n",
    "        \"\"\"Right child ID of a node.\"\"\"\n",
    "        return self.nodes[node_id].right\n",
    "\n",
    "    def is_leaf(self, node_id: int) -> bool:\n",
    "        \"\"\"Whether a node is leaf.\"\"\"\n",
    "        return self.nodes[node_id].left == -1\n",
    "\n",
    "    def is_deleted(self, node_id: int) -> bool:\n",
    "        \"\"\"Whether a node is deleted.\"\"\"\n",
    "        return self.split_index(node_id) == np.iinfo(np.uint32).max\n",
    "\n",
    "    def __str__(self) -> str:\n",
    "        stack = [0]\n",
    "        nodes = []\n",
    "        while stack:\n",
    "            node: Dict[str, Union[float, int, List[int]]] = {}\n",
    "            nid = stack.pop()\n",
    "\n",
    "            node[\"node id\"] = nid\n",
    "            node[\"gain\"] = self.loss_change(nid)\n",
    "            node[\"cover\"] = self.sum_hessian(nid)\n",
    "            nodes.append(node)\n",
    "\n",
    "            if not self.is_leaf(nid) and not self.is_deleted(nid):\n",
    "                left = self.left_child(nid)\n",
    "                right = self.right_child(nid)\n",
    "                stack.append(left)\n",
    "                stack.append(right)\n",
    "                categories = self.split_categories(nid)\n",
    "                if categories:\n",
    "                    assert self.is_categorical(nid)\n",
    "                    node[\"categories\"] = categories\n",
    "                else:\n",
    "                    assert self.is_numerical(nid)\n",
    "                    node[\"condition\"] = self.split_condition(nid)\n",
    "            if self.is_leaf(nid):\n",
    "                node[\"weight\"] = self.split_condition(nid)\n",
    "\n",
    "        string = \"\\n\".join(map(lambda x: \"  \" + str(x), nodes))\n",
    "        return string\n"
   ]
  },
  {
   "cell_type": "code",
   "execution_count": 12,
   "id": "fac3fb9e",
   "metadata": {},
   "outputs": [],
   "source": [
    "\n",
    "        # JSON representation of trees\n",
    "        j_trees = ts\n",
    "\n",
    "        # Load the trees\n",
    "        num_trees = 3\n",
    "\n",
    "        trees: List[Tree] = []\n",
    "        # TODO add tree params\n",
    "        for i in range(num_trees):\n",
    "            tree: Dict[str, Any] = j_trees[i]\n",
    "            tree_id = int(tree[\"id\"])\n",
    "            tree_param = tree[\"tree_param\"]\n",
    "            assert tree_id == i, (tree_id, i)\n",
    "            # - properties\n",
    "            left_children: List[int] = tree[\"left_children\"]\n",
    "            right_children: List[int] = tree[\"right_children\"]\n",
    "            parents: List[int] = tree[\"parents\"]\n",
    "            split_conditions: List[float] = tree[\"split_conditions\"]\n",
    "            split_indices: List[int] = tree[\"split_indices\"]\n",
    "            # when ubjson is used, this is a byte array with each element as uint8\n",
    "            default_left = tree[\"default_left\"]\n",
    "\n",
    "            # - categorical features\n",
    "            # when ubjson is used, this is a byte array with each element as uint8\n",
    "            split_types: List[int] = tree[\"split_type\"]\n",
    "            # categories for each node is stored in a CSR style storage with segment as\n",
    "            # the begin ptr and the `categories' as values.\n",
    "            cat_segments: List[int] = tree[\"categories_segments\"]\n",
    "            cat_sizes: List[int] = tree[\"categories_sizes\"]\n",
    "            # node index for categorical nodes\n",
    "            cat_nodes: List[int] = tree[\"categories_nodes\"]\n",
    "            cats = tree[\"categories\"]\n",
    "\n",
    "            # The storage for categories is only defined for categorical nodes to\n",
    "            # prevent unnecessary overhead for numerical splits, we track the\n",
    "            # categorical node that are processed using a counter.\n",
    "           \n",
    "            # - stats\n",
    "            base_weights: List[float] = tree[\"base_weights\"]\n",
    "            loss_changes: List[float] = tree[\"loss_changes\"]\n",
    "            sum_hessian: List[float] = tree[\"sum_hessian\"]\n",
    "\n",
    "            # Construct a list of nodes that have complete information\n",
    "            if len(cat_nodes) > 0:\n",
    "                nodes: List[Node] = [\n",
    "                    Node(\n",
    "                        left_children[node_id],\n",
    "                        right_children[node_id],\n",
    "                        parents[node_id],\n",
    "                        split_indices[node_id],\n",
    "                        split_conditions[node_id],\n",
    "                        default_left[node_id],  \n",
    "                        split_types[node_id],\n",
    "                        cats[node_id],\n",
    "                        cat_nodes[node_id],\n",
    "                        cat_segments[node_id],\n",
    "                        cat_sizes[node_id],\n",
    "                        base_weights[node_id],\n",
    "                        loss_changes[node_id],\n",
    "                        sum_hessian[node_id],\n",
    "                    )\n",
    "                    for node_id in range(len(left_children))\n",
    "                ]\n",
    "            else:\n",
    "                nodes: List[Node] = [\n",
    "                    Node(\n",
    "                        left_children[node_id],\n",
    "                        right_children[node_id],\n",
    "                        parents[node_id],\n",
    "                        split_indices[node_id],\n",
    "                        split_conditions[node_id],\n",
    "                        default_left[node_id],\n",
    "                        split_types[node_id],\n",
    "                        [],\n",
    "                        [],\n",
    "                        [],\n",
    "                        [],\n",
    "                        base_weights[node_id],\n",
    "                        loss_changes[node_id],\n",
    "                        sum_hessian[node_id],\n",
    "                    )\n",
    "                    for node_id in range(len(left_children))\n",
    "                ]\n",
    "            pytree = Tree(tree_id, nodes,tree_param)\n",
    "            trees.append(pytree)\n",
    "\n",
    "    "
   ]
  },
  {
   "cell_type": "code",
   "execution_count": 13,
   "id": "59403b20",
   "metadata": {},
   "outputs": [
    {
     "data": {
      "text/plain": [
       "[{'base_weights': [-0.07317077, 1.3846154, -0.724138],\n",
       "  'categories': [],\n",
       "  'categories_nodes': [],\n",
       "  'categories_segments': [],\n",
       "  'categories_sizes': [],\n",
       "  'default_left': [1, 0, 0],\n",
       "  'id': 0,\n",
       "  'left_children': [1, -1, -1],\n",
       "  'loss_changes': [39.91046, 0.0, 0.0],\n",
       "  'parents': [2147483647, 0, 0],\n",
       "  'right_children': [2, -1, -1],\n",
       "  'split_conditions': [2.45, 1.3846154, -0.724138],\n",
       "  'split_indices': [2, 0, 0],\n",
       "  'split_type': [0, 0, 0],\n",
       "  'sum_hessian': [39.999996, 11.999999, 27.999998],\n",
       "  'tree_param': {'num_deleted': '0',\n",
       "   'num_feature': '4',\n",
       "   'num_nodes': '3',\n",
       "   'size_leaf_vector': '0'}},\n",
       " {'base_weights': [0.0243902,\n",
       "   -0.6923078,\n",
       "   0.34482756,\n",
       "   1.1586207,\n",
       "   -0.6240001,\n",
       "   1.3199999,\n",
       "   0.10344825,\n",
       "   -2.5544848e-08,\n",
       "   -0.69026554],\n",
       "  'categories': [],\n",
       "  'categories_nodes': [],\n",
       "  'categories_segments': [],\n",
       "  'categories_sizes': [],\n",
       "  'default_left': [1, 0, 1, 1, 1, 0, 0, 0, 0],\n",
       "  'id': 1,\n",
       "  'left_children': [1, -1, 3, 5, 7, -1, -1, -1, -1],\n",
       "  'loss_changes': [9.6546545,\n",
       "   0.0,\n",
       "   23.58731,\n",
       "   2.6068974,\n",
       "   0.57430077,\n",
       "   0.0,\n",
       "   0.0,\n",
       "   0.0,\n",
       "   0.0],\n",
       "  'parents': [2147483647, 0, 0, 2, 2, 3, 3, 4, 4],\n",
       "  'right_children': [2, -1, 4, 6, 8, -1, -1, -1, -1],\n",
       "  'split_conditions': [2.45,\n",
       "   -0.6923078,\n",
       "   1.75,\n",
       "   4.95,\n",
       "   4.8500004,\n",
       "   1.3199999,\n",
       "   0.10344825,\n",
       "   -2.5544848e-08,\n",
       "   -0.69026554],\n",
       "  'split_indices': [2, 0, 3, 2, 2, 0, 0, 0, 0],\n",
       "  'split_type': [0, 0, 0, 0, 0, 0, 0, 0, 0],\n",
       "  'sum_hessian': [39.999996,\n",
       "   11.999999,\n",
       "   27.999998,\n",
       "   15.111111,\n",
       "   12.888888,\n",
       "   12.888888,\n",
       "   2.222222,\n",
       "   1.3333333,\n",
       "   11.555555],\n",
       "  'tree_param': {'num_deleted': '0',\n",
       "   'num_feature': '4',\n",
       "   'num_nodes': '9',\n",
       "   'size_leaf_vector': '0'}},\n",
       " {'base_weights': [0.048780445,\n",
       "   -0.6455697,\n",
       "   1.2127659,\n",
       "   -0.7194571,\n",
       "   0.23999998,\n",
       "   0.23999998,\n",
       "   1.3199999,\n",
       "   0.4285714,\n",
       "   1.380531],\n",
       "  'categories': [],\n",
       "  'categories_nodes': [],\n",
       "  'categories_segments': [],\n",
       "  'categories_sizes': [],\n",
       "  'default_left': [1, 1, 1, 0, 0, 0, 1, 0, 0],\n",
       "  'id': 2,\n",
       "  'left_children': [1, 3, 5, -1, -1, -1, 7, -1, -1],\n",
       "  'loss_changes': [33.919674,\n",
       "   1.8957224,\n",
       "   1.3174477,\n",
       "   0.0,\n",
       "   0.0,\n",
       "   0.0,\n",
       "   0.15777206,\n",
       "   0.0,\n",
       "   0.0],\n",
       "  'parents': [2147483647, 0, 0, 1, 1, 2, 2, 6, 6],\n",
       "  'right_children': [2, 4, 6, -1, -1, -1, 8, -1, -1],\n",
       "  'split_conditions': [1.55,\n",
       "   4.8,\n",
       "   1.75,\n",
       "   -0.7194571,\n",
       "   0.23999998,\n",
       "   0.23999998,\n",
       "   4.8500004,\n",
       "   0.4285714,\n",
       "   1.380531],\n",
       "  'split_indices': [3, 2, 3, 0, 0, 0, 2, 0, 0],\n",
       "  'split_type': [0, 0, 0, 0, 0, 0, 0, 0, 0],\n",
       "  'sum_hessian': [39.999996,\n",
       "   25.333332,\n",
       "   14.666666,\n",
       "   23.555553,\n",
       "   1.7777777,\n",
       "   1.7777777,\n",
       "   12.888888,\n",
       "   1.3333333,\n",
       "   11.555555],\n",
       "  'tree_param': {'num_deleted': '0',\n",
       "   'num_feature': '4',\n",
       "   'num_nodes': '9',\n",
       "   'size_leaf_vector': '0'}}]"
      ]
     },
     "execution_count": 13,
     "metadata": {},
     "output_type": "execute_result"
    }
   ],
   "source": [
    "ts"
   ]
  },
  {
   "cell_type": "code",
   "execution_count": 14,
   "id": "4d6872b1",
   "metadata": {},
   "outputs": [],
   "source": [
    "t1 = trees[0]\n",
    "t2 = trees[1]\n",
    "t3 = trees[2]"
   ]
  },
  {
   "cell_type": "code",
   "execution_count": 15,
   "id": "138b45f6",
   "metadata": {},
   "outputs": [
    {
     "name": "stdout",
     "output_type": "stream",
     "text": [
      "  {'node id': 0, 'gain': 39.91046, 'cover': 39.999996, 'condition': 2.45}\n",
      "  {'node id': 2, 'gain': 0.0, 'cover': 27.999998, 'weight': -0.724138}\n",
      "  {'node id': 1, 'gain': 0.0, 'cover': 11.999999, 'weight': 1.3846154}\n",
      "\n",
      "  {'node id': 0, 'gain': 9.6546545, 'cover': 39.999996, 'condition': 2.45}\n",
      "  {'node id': 2, 'gain': 23.58731, 'cover': 27.999998, 'condition': 1.75}\n",
      "  {'node id': 4, 'gain': 0.57430077, 'cover': 12.888888, 'condition': 4.8500004}\n",
      "  {'node id': 8, 'gain': 0.0, 'cover': 11.555555, 'weight': -0.69026554}\n",
      "  {'node id': 7, 'gain': 0.0, 'cover': 1.3333333, 'weight': -2.5544848e-08}\n",
      "  {'node id': 3, 'gain': 2.6068974, 'cover': 15.111111, 'condition': 4.95}\n",
      "  {'node id': 6, 'gain': 0.0, 'cover': 2.222222, 'weight': 0.10344825}\n",
      "  {'node id': 5, 'gain': 0.0, 'cover': 12.888888, 'weight': 1.3199999}\n",
      "  {'node id': 1, 'gain': 0.0, 'cover': 11.999999, 'weight': -0.6923078}\n",
      "\n",
      "  {'node id': 0, 'gain': 33.919674, 'cover': 39.999996, 'condition': 1.55}\n",
      "  {'node id': 2, 'gain': 1.3174477, 'cover': 14.666666, 'condition': 1.75}\n",
      "  {'node id': 6, 'gain': 0.15777206, 'cover': 12.888888, 'condition': 4.8500004}\n",
      "  {'node id': 8, 'gain': 0.0, 'cover': 11.555555, 'weight': 1.380531}\n",
      "  {'node id': 7, 'gain': 0.0, 'cover': 1.3333333, 'weight': 0.4285714}\n",
      "  {'node id': 5, 'gain': 0.0, 'cover': 1.7777777, 'weight': 0.23999998}\n",
      "  {'node id': 1, 'gain': 1.8957224, 'cover': 25.333332, 'condition': 4.8}\n",
      "  {'node id': 4, 'gain': 0.0, 'cover': 1.7777777, 'weight': 0.23999998}\n",
      "  {'node id': 3, 'gain': 0.0, 'cover': 23.555553, 'weight': -0.7194571}\n"
     ]
    }
   ],
   "source": [
    "print(str(t1)+ \"\\n\")\n",
    "print(str(t2) + \"\\n\")\n",
    "print(str(t3))"
   ]
  },
  {
   "cell_type": "code",
   "execution_count": 16,
   "id": "804d572b",
   "metadata": {},
   "outputs": [],
   "source": [
    "ids = range(len(t1.nodes))"
   ]
  },
  {
   "cell_type": "code",
   "execution_count": 17,
   "id": "78b90abf",
   "metadata": {},
   "outputs": [
    {
     "data": {
      "text/plain": [
       "range(0, 3)"
      ]
     },
     "execution_count": 17,
     "metadata": {},
     "output_type": "execute_result"
    }
   ],
   "source": [
    "ids"
   ]
  },
  {
   "cell_type": "code",
   "execution_count": 18,
   "id": "007fc63a",
   "metadata": {},
   "outputs": [
    {
     "data": {
      "text/plain": [
       "[Node(left=1, right=2, parent=2147483647, split_idx=2, split_cond=2.45, default_left=1, split_type=0, categories=[], categories_nodes=[], categories_segments=[], categories_sizes=[], base_weight=-0.07317077, loss_chg=39.91046, sum_hess=39.999996),\n",
       " Node(left=-1, right=-1, parent=0, split_idx=0, split_cond=1.3846154, default_left=0, split_type=0, categories=[], categories_nodes=[], categories_segments=[], categories_sizes=[], base_weight=1.3846154, loss_chg=0.0, sum_hess=11.999999),\n",
       " Node(left=-1, right=-1, parent=0, split_idx=0, split_cond=-0.724138, default_left=0, split_type=0, categories=[], categories_nodes=[], categories_segments=[], categories_sizes=[], base_weight=-0.724138, loss_chg=0.0, sum_hess=27.999998)]"
      ]
     },
     "execution_count": 18,
     "metadata": {},
     "output_type": "execute_result"
    }
   ],
   "source": [
    "t1.nodes"
   ]
  },
  {
   "cell_type": "code",
   "execution_count": 19,
   "id": "c8a9a0d8",
   "metadata": {
    "scrolled": false
   },
   "outputs": [],
   "source": [
    "# nodes are deleted inline on tree\n",
    "# as tree is an object\n",
    "def remove_leaf(nid, tree):\n",
    "    tree.nodes.pop(nid)\n",
    "    "
   ]
  },
  {
   "cell_type": "code",
   "execution_count": 20,
   "id": "187a8f51",
   "metadata": {},
   "outputs": [],
   "source": [
    "def update_parent_node(nid,tree):\n",
    "    # Todo update all params\n",
    "    # must update split_condition with examening training data\n",
    "    #https://stats.stackexchange.com/questions/395697/what-is-an-intuitive-interpretation-of-the-leaf-values-in-xgboost-base-learners\n",
    "    #https://stackoverflow.com/questions/70586078/manipulation-and-interpretation-of-xgboost-models-in-python\n",
    "\n",
    "    # INSIGHT by looking at json file for trained model\n",
    "    # \"split_conditions\": [-1.1707545e-2], \"base_weights\": [-1.1707545e-2], are the same when leaf\n",
    "    # or 0 sometimes for both if stump (node _id = 0)\n",
    "    # so if parent node becomes stump, either set it to 0 or base_weight\n",
    "    \n",
    "    # TODO Recount the nodes in the tree and update the node_ids\n",
    "    # example removing a node will cause the node_ids for the remaining nodes on the opposite side further down the tree\n",
    "    # to not be correct. ids are the index in the list of nodes. \n",
    "    pnode = tree.nodes[nid]\n",
    "    pnode.default_left = 0\n",
    "    pnode.loss_chg = 0.0\n",
    "    pnode.split_idx = 0\n",
    "    pnode.left = -1\n",
    "    pnode.right = -1\n",
    "    # set parent node split_cond to base_weight\n",
    "    pnode.split_cond = pnode.base_weight\n",
    "    print(type(pnode))"
   ]
  },
  {
   "cell_type": "code",
   "execution_count": 21,
   "id": "f57e1530",
   "metadata": {},
   "outputs": [
    {
     "data": {
      "text/plain": [
       "[Node(left=1, right=2, parent=2147483647, split_idx=3, split_cond=1.55, default_left=1, split_type=0, categories=[], categories_nodes=[], categories_segments=[], categories_sizes=[], base_weight=0.048780445, loss_chg=33.919674, sum_hess=39.999996),\n",
       " Node(left=3, right=4, parent=0, split_idx=2, split_cond=4.8, default_left=1, split_type=0, categories=[], categories_nodes=[], categories_segments=[], categories_sizes=[], base_weight=-0.6455697, loss_chg=1.8957224, sum_hess=25.333332),\n",
       " Node(left=5, right=6, parent=0, split_idx=3, split_cond=1.75, default_left=1, split_type=0, categories=[], categories_nodes=[], categories_segments=[], categories_sizes=[], base_weight=1.2127659, loss_chg=1.3174477, sum_hess=14.666666),\n",
       " Node(left=-1, right=-1, parent=1, split_idx=0, split_cond=-0.7194571, default_left=0, split_type=0, categories=[], categories_nodes=[], categories_segments=[], categories_sizes=[], base_weight=-0.7194571, loss_chg=0.0, sum_hess=23.555553),\n",
       " Node(left=-1, right=-1, parent=1, split_idx=0, split_cond=0.23999998, default_left=0, split_type=0, categories=[], categories_nodes=[], categories_segments=[], categories_sizes=[], base_weight=0.23999998, loss_chg=0.0, sum_hess=1.7777777),\n",
       " Node(left=-1, right=-1, parent=2, split_idx=0, split_cond=0.23999998, default_left=0, split_type=0, categories=[], categories_nodes=[], categories_segments=[], categories_sizes=[], base_weight=0.23999998, loss_chg=0.0, sum_hess=1.7777777),\n",
       " Node(left=7, right=8, parent=2, split_idx=2, split_cond=4.8500004, default_left=1, split_type=0, categories=[], categories_nodes=[], categories_segments=[], categories_sizes=[], base_weight=1.3199999, loss_chg=0.15777206, sum_hess=12.888888),\n",
       " Node(left=-1, right=-1, parent=6, split_idx=0, split_cond=0.4285714, default_left=0, split_type=0, categories=[], categories_nodes=[], categories_segments=[], categories_sizes=[], base_weight=0.4285714, loss_chg=0.0, sum_hess=1.3333333),\n",
       " Node(left=-1, right=-1, parent=6, split_idx=0, split_cond=1.380531, default_left=0, split_type=0, categories=[], categories_nodes=[], categories_segments=[], categories_sizes=[], base_weight=1.380531, loss_chg=0.0, sum_hess=11.555555)]"
      ]
     },
     "execution_count": 21,
     "metadata": {},
     "output_type": "execute_result"
    }
   ],
   "source": [
    "t3.nodes"
   ]
  },
  {
   "cell_type": "code",
   "execution_count": 22,
   "id": "9e10eaf4",
   "metadata": {},
   "outputs": [
    {
     "name": "stdout",
     "output_type": "stream",
     "text": [
      "Node(left=5, right=6, parent=0, split_idx=3, split_cond=1.75, default_left=1, split_type=0, categories=[], categories_nodes=[], categories_segments=[], categories_sizes=[], base_weight=1.2127659, loss_chg=1.3174477, sum_hess=14.666666)\n",
      "9\n"
     ]
    }
   ],
   "source": [
    "# TODO implenet these instruction (particaly done below)\n",
    "#  identify a random parent node\n",
    "# sort out leaf parent nodes from tree.nodes (if left and right == -1)\n",
    "# choose 10% randomly from those\n",
    "# delete right then left child.\n",
    "# update node\n",
    "# update all nodes with higher ids (do not if current node is highest id)\n",
    "# save tree.\n",
    "\n",
    "\n",
    "# maybe save id when doing this to use later on\n",
    "# get number of nodes before pruning\n",
    "num_nodes_preprune = len(t3.nodes)\n",
    "parent = t3.nodes[2]\n",
    "print(parent)\n",
    "print(num_nodes_preprune)"
   ]
  },
  {
   "cell_type": "code",
   "execution_count": 23,
   "id": "621dd363",
   "metadata": {},
   "outputs": [
    {
     "data": {
      "text/plain": [
       "(5, 6)"
      ]
     },
     "execution_count": 23,
     "metadata": {},
     "output_type": "execute_result"
    }
   ],
   "source": [
    "# get the children of that node\n",
    "child_left = parent.left\n",
    "child_right = parent.right\n",
    "child_left, child_right\n",
    "# if children are also parent nodes recursivly move down until left and right are -1"
   ]
  },
  {
   "cell_type": "code",
   "execution_count": 24,
   "id": "40fe4812",
   "metadata": {},
   "outputs": [],
   "source": [
    "# remove the right node first then the left\n",
    "# start with the highest id leaf\n",
    "remove_leaf(child_right, t3)\n",
    "remove_leaf(child_left , t3)"
   ]
  },
  {
   "cell_type": "code",
   "execution_count": 25,
   "id": "dc8de745",
   "metadata": {},
   "outputs": [
    {
     "data": {
      "text/plain": [
       "Node(left=5, right=6, parent=0, split_idx=3, split_cond=1.75, default_left=1, split_type=0, categories=[], categories_nodes=[], categories_segments=[], categories_sizes=[], base_weight=1.2127659, loss_chg=1.3174477, sum_hess=14.666666)"
      ]
     },
     "execution_count": 25,
     "metadata": {},
     "output_type": "execute_result"
    }
   ],
   "source": [
    "parent"
   ]
  },
  {
   "cell_type": "code",
   "execution_count": 26,
   "id": "3f50e17f",
   "metadata": {},
   "outputs": [
    {
     "name": "stdout",
     "output_type": "stream",
     "text": [
      "<class '__main__.Node'>\n"
     ]
    }
   ],
   "source": [
    "# update the parent node\n",
    "# possibly change to take node instead of node_id\n",
    "update_parent_node(2, t3)\n",
    "num_nodes_postprune = len(t3.nodes)"
   ]
  },
  {
   "cell_type": "code",
   "execution_count": 27,
   "id": "37d15596",
   "metadata": {},
   "outputs": [
    {
     "data": {
      "text/plain": [
       "2"
      ]
     },
     "execution_count": 27,
     "metadata": {},
     "output_type": "execute_result"
    }
   ],
   "source": [
    "num_nodes_preprune - num_nodes_postprune"
   ]
  },
  {
   "cell_type": "code",
   "execution_count": null,
   "id": "cce92142",
   "metadata": {},
   "outputs": [],
   "source": []
  },
  {
   "cell_type": "code",
   "execution_count": 28,
   "id": "a58e0e7b",
   "metadata": {},
   "outputs": [],
   "source": [
    "# update any nodes with higher ids\n",
    "# dont run if node is right most parent node and lowest node\n",
    "# add check either in here or before use\n",
    "def update_all_nodes_with_higher_id(changed_node_id, num_nodes_preprune, num_nodes_postprune, tree):\n",
    "    diff = num_nodes_preprune - num_nodes_postprune\n",
    "    for n in tree.nodes[changed_node_id::]:\n",
    "        if n.left != -1:\n",
    "            n.left -= diff\n",
    "        if n.right != -1:\n",
    "            n.right -= diff"
   ]
  },
  {
   "cell_type": "code",
   "execution_count": null,
   "id": "e94b5ad7",
   "metadata": {},
   "outputs": [],
   "source": [
    "update_all_nodes_with_higher_id(2, num_nodes_preprune, num_nodes_postprune)"
   ]
  },
  {
   "cell_type": "code",
   "execution_count": 29,
   "id": "17ccd883",
   "metadata": {},
   "outputs": [
    {
     "data": {
      "text/plain": [
       "Node(left=-1, right=-1, parent=0, split_idx=0, split_cond=1.2127659, default_left=0, split_type=0, categories=[], categories_nodes=[], categories_segments=[], categories_sizes=[], base_weight=1.2127659, loss_chg=0.0, sum_hess=14.666666)"
      ]
     },
     "execution_count": 29,
     "metadata": {},
     "output_type": "execute_result"
    }
   ],
   "source": [
    "parent"
   ]
  },
  {
   "cell_type": "code",
   "execution_count": 30,
   "id": "b4365996",
   "metadata": {},
   "outputs": [
    {
     "data": {
      "text/plain": [
       "[Node(left=1, right=2, parent=2147483647, split_idx=3, split_cond=1.55, default_left=1, split_type=0, categories=[], categories_nodes=[], categories_segments=[], categories_sizes=[], base_weight=0.048780445, loss_chg=33.919674, sum_hess=39.999996),\n",
       " Node(left=3, right=4, parent=0, split_idx=2, split_cond=4.8, default_left=1, split_type=0, categories=[], categories_nodes=[], categories_segments=[], categories_sizes=[], base_weight=-0.6455697, loss_chg=1.8957224, sum_hess=25.333332),\n",
       " Node(left=-1, right=-1, parent=0, split_idx=0, split_cond=1.2127659, default_left=0, split_type=0, categories=[], categories_nodes=[], categories_segments=[], categories_sizes=[], base_weight=1.2127659, loss_chg=0.0, sum_hess=14.666666),\n",
       " Node(left=-1, right=-1, parent=1, split_idx=0, split_cond=-0.7194571, default_left=0, split_type=0, categories=[], categories_nodes=[], categories_segments=[], categories_sizes=[], base_weight=-0.7194571, loss_chg=0.0, sum_hess=23.555553),\n",
       " Node(left=-1, right=-1, parent=1, split_idx=0, split_cond=0.23999998, default_left=0, split_type=0, categories=[], categories_nodes=[], categories_segments=[], categories_sizes=[], base_weight=0.23999998, loss_chg=0.0, sum_hess=1.7777777),\n",
       " Node(left=-1, right=-1, parent=6, split_idx=0, split_cond=0.4285714, default_left=0, split_type=0, categories=[], categories_nodes=[], categories_segments=[], categories_sizes=[], base_weight=0.4285714, loss_chg=0.0, sum_hess=1.3333333),\n",
       " Node(left=-1, right=-1, parent=6, split_idx=0, split_cond=1.380531, default_left=0, split_type=0, categories=[], categories_nodes=[], categories_segments=[], categories_sizes=[], base_weight=1.380531, loss_chg=0.0, sum_hess=11.555555)]"
      ]
     },
     "execution_count": 30,
     "metadata": {},
     "output_type": "execute_result"
    }
   ],
   "source": [
    "t3.nodes"
   ]
  },
  {
   "cell_type": "code",
   "execution_count": 31,
   "id": "343e0428",
   "metadata": {},
   "outputs": [
    {
     "data": {
      "text/plain": [
       "[Node(left=1, right=2, parent=2147483647, split_idx=2, split_cond=2.45, default_left=1, split_type=0, categories=[], categories_nodes=[], categories_segments=[], categories_sizes=[], base_weight=0.0243902, loss_chg=9.6546545, sum_hess=39.999996),\n",
       " Node(left=-1, right=-1, parent=0, split_idx=0, split_cond=-0.6923078, default_left=0, split_type=0, categories=[], categories_nodes=[], categories_segments=[], categories_sizes=[], base_weight=-0.6923078, loss_chg=0.0, sum_hess=11.999999),\n",
       " Node(left=3, right=4, parent=0, split_idx=3, split_cond=1.75, default_left=1, split_type=0, categories=[], categories_nodes=[], categories_segments=[], categories_sizes=[], base_weight=0.34482756, loss_chg=23.58731, sum_hess=27.999998),\n",
       " Node(left=5, right=6, parent=2, split_idx=2, split_cond=4.95, default_left=1, split_type=0, categories=[], categories_nodes=[], categories_segments=[], categories_sizes=[], base_weight=1.1586207, loss_chg=2.6068974, sum_hess=15.111111),\n",
       " Node(left=7, right=8, parent=2, split_idx=2, split_cond=4.8500004, default_left=1, split_type=0, categories=[], categories_nodes=[], categories_segments=[], categories_sizes=[], base_weight=-0.6240001, loss_chg=0.57430077, sum_hess=12.888888),\n",
       " Node(left=-1, right=-1, parent=3, split_idx=0, split_cond=1.3199999, default_left=0, split_type=0, categories=[], categories_nodes=[], categories_segments=[], categories_sizes=[], base_weight=1.3199999, loss_chg=0.0, sum_hess=12.888888),\n",
       " Node(left=-1, right=-1, parent=3, split_idx=0, split_cond=0.10344825, default_left=0, split_type=0, categories=[], categories_nodes=[], categories_segments=[], categories_sizes=[], base_weight=0.10344825, loss_chg=0.0, sum_hess=2.222222),\n",
       " Node(left=-1, right=-1, parent=4, split_idx=0, split_cond=-2.5544848e-08, default_left=0, split_type=0, categories=[], categories_nodes=[], categories_segments=[], categories_sizes=[], base_weight=-2.5544848e-08, loss_chg=0.0, sum_hess=1.3333333),\n",
       " Node(left=-1, right=-1, parent=4, split_idx=0, split_cond=-0.69026554, default_left=0, split_type=0, categories=[], categories_nodes=[], categories_segments=[], categories_sizes=[], base_weight=-0.69026554, loss_chg=0.0, sum_hess=11.555555)]"
      ]
     },
     "execution_count": 31,
     "metadata": {},
     "output_type": "execute_result"
    }
   ],
   "source": [
    "t2.nodes"
   ]
  },
  {
   "cell_type": "code",
   "execution_count": 32,
   "id": "eaf3a309",
   "metadata": {},
   "outputs": [],
   "source": [
    "t2.nodes = t2.nodes[0:3]"
   ]
  },
  {
   "cell_type": "code",
   "execution_count": 33,
   "id": "463c2c77",
   "metadata": {},
   "outputs": [
    {
     "name": "stdout",
     "output_type": "stream",
     "text": [
      "<class '__main__.Node'>\n"
     ]
    }
   ],
   "source": [
    "update_parent_node(2,t2)"
   ]
  },
  {
   "cell_type": "code",
   "execution_count": 34,
   "id": "b8e362cd",
   "metadata": {
    "scrolled": true
   },
   "outputs": [],
   "source": [
    "# start with highest node id\n",
    "remove_leaf(2,t1)\n",
    "remove_leaf(1,t1)\n"
   ]
  },
  {
   "cell_type": "code",
   "execution_count": 35,
   "id": "0a486cd1",
   "metadata": {},
   "outputs": [
    {
     "name": "stdout",
     "output_type": "stream",
     "text": [
      "<class '__main__.Node'>\n"
     ]
    }
   ],
   "source": [
    "update_parent_node(0,t1)"
   ]
  },
  {
   "cell_type": "code",
   "execution_count": 36,
   "id": "3cfdde4b",
   "metadata": {},
   "outputs": [
    {
     "name": "stdout",
     "output_type": "stream",
     "text": [
      "[Node(left=-1, right=-1, parent=2147483647, split_idx=0, split_cond=-0.07317077, default_left=0, split_type=0, categories=[], categories_nodes=[], categories_segments=[], categories_sizes=[], base_weight=-0.07317077, loss_chg=0.0, sum_hess=39.999996)]\n"
     ]
    }
   ],
   "source": [
    "print(t1.nodes)"
   ]
  },
  {
   "cell_type": "code",
   "execution_count": 37,
   "id": "5e0a17a8",
   "metadata": {},
   "outputs": [
    {
     "data": {
      "text/plain": [
       "\"  {'node id': 0, 'gain': 0.0, 'cover': 39.999996, 'weight': -0.07317077}\""
      ]
     },
     "execution_count": 37,
     "metadata": {},
     "output_type": "execute_result"
    }
   ],
   "source": [
    "str(t1)"
   ]
  },
  {
   "cell_type": "code",
   "execution_count": 38,
   "id": "9f8f3cdd",
   "metadata": {},
   "outputs": [
    {
     "data": {
      "text/plain": [
       "-1"
      ]
     },
     "execution_count": 38,
     "metadata": {},
     "output_type": "execute_result"
    }
   ],
   "source": [
    "t1.nodes[0].left"
   ]
  },
  {
   "cell_type": "code",
   "execution_count": 39,
   "id": "7ddb9070",
   "metadata": {},
   "outputs": [],
   "source": [
    "def tree_to_json(tree):\n",
    "    # JSON representation of trees\n",
    "    # Load the trees\n",
    "    num_trees = len(tree.nodes)\n",
    "    print(\"num_trees:\",num_trees)\n",
    "    \n",
    "    json_trees_list = []\n",
    "    \n",
    "\n",
    "    \n",
    "    for i in range(num_trees):\n",
    "        json_tree_dict = {'base_weights' : [],\n",
    "                         'categories': [],\n",
    "                         'categories_nodes': [],\n",
    "                         'categories_segments': [],\n",
    "                         'categories_sizes': [],\n",
    "                         'default_left': [],\n",
    "                         'id': 0,\n",
    "                         'left_children': [],\n",
    "                         'loss_changes': [],\n",
    "                         'parents': [],\n",
    "                         'right_children': [],\n",
    "                         'split_conditions': [],\n",
    "                         'split_indices': [],\n",
    "                         'split_type': [],\n",
    "                         'sum_hessian': []\n",
    "                         }\n",
    "        # add tree_param after function has run\n",
    "        \n",
    "        nodes = tree.nodes\n",
    "        \n",
    "        for i, node in enumerate(nodes):\n",
    "            json_tree_dict['base_weights'].append(node.base_weight)\n",
    "            #json_tree_dict['categories'].append(node.categories)\n",
    "            #json_tree_dict['categories_nodes'].append(node.categories_nodes)\n",
    "            #json_tree_dict['categories_segments'].append(node.categories_segments)\n",
    "            #json_tree_dict['categories_sizes'].append(node.categories_sizes)\n",
    "            json_tree_dict['default_left'].append(node.default_left)\n",
    "            json_tree_dict['left_children'].append(node.left)\n",
    "            json_tree_dict['loss_changes'].append(node.loss_chg)\n",
    "            json_tree_dict['parents'].append(node.parent)\n",
    "            json_tree_dict['right_children'].append(node.right)\n",
    "            json_tree_dict['split_conditions'].append(node.split_cond)\n",
    "            json_tree_dict['split_indices'].append(node.split_idx)\n",
    "            json_tree_dict['split_type'].append(node.split_type)\n",
    "            json_tree_dict['sum_hessian'].append(node.sum_hess)\n",
    "            \n",
    "        tree.tree_param[\"num_nodes\"] = str(len(nodes))\n",
    "        json_tree_dict['id'] = tree.tree_id\n",
    "        json_tree_dict['tree_param'] = tree.tree_param\n",
    "        \n",
    "        json_trees_list.append(json_tree_dict)\n",
    "\n",
    "    # return only one tree, as input is only one tree\n",
    "    return json_tree_dict, num_trees\n",
    "    \n",
    "    "
   ]
  },
  {
   "cell_type": "code",
   "execution_count": 40,
   "id": "0f0e7877",
   "metadata": {},
   "outputs": [
    {
     "name": "stdout",
     "output_type": "stream",
     "text": [
      "num_trees: 1\n"
     ]
    }
   ],
   "source": [
    "json_trees, num_trees = tree_to_json(t1)"
   ]
  },
  {
   "cell_type": "code",
   "execution_count": 41,
   "id": "3ef980c1",
   "metadata": {},
   "outputs": [
    {
     "name": "stdout",
     "output_type": "stream",
     "text": [
      "num_trees: 7\n"
     ]
    }
   ],
   "source": [
    "json_trees2, num_trees2 = tree_to_json(t3)"
   ]
  },
  {
   "cell_type": "code",
   "execution_count": 42,
   "id": "9919b4be",
   "metadata": {},
   "outputs": [
    {
     "name": "stdout",
     "output_type": "stream",
     "text": [
      "num_trees: 3\n"
     ]
    }
   ],
   "source": [
    "json_trees3, num_trees3 = tree_to_json(t2)"
   ]
  },
  {
   "cell_type": "code",
   "execution_count": 43,
   "id": "f48e8fe1",
   "metadata": {},
   "outputs": [
    {
     "data": {
      "text/plain": [
       "{'base_weights': [-0.07317077],\n",
       " 'categories': [],\n",
       " 'categories_nodes': [],\n",
       " 'categories_segments': [],\n",
       " 'categories_sizes': [],\n",
       " 'default_left': [0],\n",
       " 'id': 0,\n",
       " 'left_children': [-1],\n",
       " 'loss_changes': [0.0],\n",
       " 'parents': [2147483647],\n",
       " 'right_children': [-1],\n",
       " 'split_conditions': [-0.07317077],\n",
       " 'split_indices': [0],\n",
       " 'split_type': [0],\n",
       " 'sum_hessian': [39.999996],\n",
       " 'tree_param': {'num_deleted': '0',\n",
       "  'num_feature': '4',\n",
       "  'num_nodes': '1',\n",
       "  'size_leaf_vector': '0'}}"
      ]
     },
     "execution_count": 43,
     "metadata": {},
     "output_type": "execute_result"
    }
   ],
   "source": [
    "json_trees"
   ]
  },
  {
   "cell_type": "code",
   "execution_count": 44,
   "id": "7eb2a07e",
   "metadata": {},
   "outputs": [
    {
     "data": {
      "text/plain": [
       "'3'"
      ]
     },
     "execution_count": 44,
     "metadata": {},
     "output_type": "execute_result"
    }
   ],
   "source": [
    "jfile[\"learner\"][\"gradient_booster\"][\"model\"]['gbtree_model_param'][\"num_trees\"] "
   ]
  },
  {
   "cell_type": "code",
   "execution_count": 45,
   "id": "17a66cc3",
   "metadata": {},
   "outputs": [],
   "source": [
    "jfile[\"learner\"][\"gradient_booster\"][\"model\"][\"trees\"][0] = json_trees"
   ]
  },
  {
   "cell_type": "code",
   "execution_count": 46,
   "id": "3c2f343d",
   "metadata": {},
   "outputs": [],
   "source": [
    "jfile[\"learner\"][\"gradient_booster\"][\"model\"][\"trees\"][1] = json_trees3"
   ]
  },
  {
   "cell_type": "code",
   "execution_count": 47,
   "id": "dda42ecc",
   "metadata": {},
   "outputs": [],
   "source": [
    "jfile[\"learner\"][\"gradient_booster\"][\"model\"][\"trees\"][2] = json_trees2"
   ]
  },
  {
   "cell_type": "code",
   "execution_count": 48,
   "id": "deb6f0ac",
   "metadata": {},
   "outputs": [
    {
     "data": {
      "text/plain": [
       "{'learner': {'attributes': {'best_iteration': '0',\n",
       "   'best_ntree_limit': '1',\n",
       "   'scikit_learn': '{\"use_label_encoder\": null, \"n_estimators\": 1, \"objective\": \"multi:softprob\", \"max_depth\": 3, \"max_leaves\": null, \"max_bin\": null, \"grow_policy\": null, \"learning_rate\": 1, \"verbosity\": null, \"booster\": null, \"tree_method\": null, \"gamma\": null, \"min_child_weight\": null, \"max_delta_step\": null, \"subsample\": null, \"sampling_method\": null, \"colsample_bytree\": null, \"colsample_bylevel\": null, \"colsample_bynode\": null, \"reg_alpha\": null, \"reg_lambda\": null, \"scale_pos_weight\": null, \"base_score\": null, \"missing\": NaN, \"num_parallel_tree\": null, \"random_state\": null, \"n_jobs\": null, \"monotone_constraints\": null, \"interaction_constraints\": null, \"importance_type\": null, \"gpu_id\": null, \"validate_parameters\": null, \"predictor\": null, \"enable_categorical\": false, \"feature_types\": null, \"max_cat_to_onehot\": null, \"max_cat_threshold\": null, \"eval_metric\": null, \"early_stopping_rounds\": null, \"callbacks\": null, \"classes_\": [0, 1, 2], \"n_classes_\": 3, \"_estimator_type\": \"classifier\"}'},\n",
       "  'feature_names': [],\n",
       "  'feature_types': [],\n",
       "  'gradient_booster': {'model': {'gbtree_model_param': {'num_parallel_tree': '1',\n",
       "     'num_trees': '3',\n",
       "     'size_leaf_vector': '0'},\n",
       "    'tree_info': [0, 1, 2],\n",
       "    'trees': [{'base_weights': [-0.07317077],\n",
       "      'categories': [],\n",
       "      'categories_nodes': [],\n",
       "      'categories_segments': [],\n",
       "      'categories_sizes': [],\n",
       "      'default_left': [0],\n",
       "      'id': 0,\n",
       "      'left_children': [-1],\n",
       "      'loss_changes': [0.0],\n",
       "      'parents': [2147483647],\n",
       "      'right_children': [-1],\n",
       "      'split_conditions': [-0.07317077],\n",
       "      'split_indices': [0],\n",
       "      'split_type': [0],\n",
       "      'sum_hessian': [39.999996],\n",
       "      'tree_param': {'num_deleted': '0',\n",
       "       'num_feature': '4',\n",
       "       'num_nodes': '1',\n",
       "       'size_leaf_vector': '0'}},\n",
       "     {'base_weights': [0.0243902, -0.6923078, 0.34482756],\n",
       "      'categories': [],\n",
       "      'categories_nodes': [],\n",
       "      'categories_segments': [],\n",
       "      'categories_sizes': [],\n",
       "      'default_left': [1, 0, 0],\n",
       "      'id': 1,\n",
       "      'left_children': [1, -1, -1],\n",
       "      'loss_changes': [9.6546545, 0.0, 0.0],\n",
       "      'parents': [2147483647, 0, 0],\n",
       "      'right_children': [2, -1, -1],\n",
       "      'split_conditions': [2.45, -0.6923078, 0.34482756],\n",
       "      'split_indices': [2, 0, 0],\n",
       "      'split_type': [0, 0, 0],\n",
       "      'sum_hessian': [39.999996, 11.999999, 27.999998],\n",
       "      'tree_param': {'num_deleted': '0',\n",
       "       'num_feature': '4',\n",
       "       'num_nodes': '3',\n",
       "       'size_leaf_vector': '0'}},\n",
       "     {'base_weights': [0.048780445,\n",
       "       -0.6455697,\n",
       "       1.2127659,\n",
       "       -0.7194571,\n",
       "       0.23999998,\n",
       "       0.4285714,\n",
       "       1.380531],\n",
       "      'categories': [],\n",
       "      'categories_nodes': [],\n",
       "      'categories_segments': [],\n",
       "      'categories_sizes': [],\n",
       "      'default_left': [1, 1, 0, 0, 0, 0, 0],\n",
       "      'id': 2,\n",
       "      'left_children': [1, 3, -1, -1, -1, -1, -1],\n",
       "      'loss_changes': [33.919674, 1.8957224, 0.0, 0.0, 0.0, 0.0, 0.0],\n",
       "      'parents': [2147483647, 0, 0, 1, 1, 6, 6],\n",
       "      'right_children': [2, 4, -1, -1, -1, -1, -1],\n",
       "      'split_conditions': [1.55,\n",
       "       4.8,\n",
       "       1.2127659,\n",
       "       -0.7194571,\n",
       "       0.23999998,\n",
       "       0.4285714,\n",
       "       1.380531],\n",
       "      'split_indices': [3, 2, 0, 0, 0, 0, 0],\n",
       "      'split_type': [0, 0, 0, 0, 0, 0, 0],\n",
       "      'sum_hessian': [39.999996,\n",
       "       25.333332,\n",
       "       14.666666,\n",
       "       23.555553,\n",
       "       1.7777777,\n",
       "       1.3333333,\n",
       "       11.555555],\n",
       "      'tree_param': {'num_deleted': '0',\n",
       "       'num_feature': '4',\n",
       "       'num_nodes': '7',\n",
       "       'size_leaf_vector': '0'}}]},\n",
       "   'name': 'gbtree'},\n",
       "  'learner_model_param': {'base_score': '5E-1',\n",
       "   'boost_from_average': '1',\n",
       "   'num_class': '3',\n",
       "   'num_feature': '4',\n",
       "   'num_target': '1'},\n",
       "  'objective': {'name': 'multi:softprob',\n",
       "   'softmax_multiclass_param': {'num_class': '3'}}},\n",
       " 'version': [1, 7, 5]}"
      ]
     },
     "execution_count": 48,
     "metadata": {},
     "output_type": "execute_result"
    }
   ],
   "source": [
    "jfile"
   ]
  },
  {
   "cell_type": "code",
   "execution_count": 49,
   "id": "9266b20d",
   "metadata": {},
   "outputs": [],
   "source": [
    "with open(\"sample.json\", \"w\") as outfile:\n",
    "    json.dump(jfile, outfile)"
   ]
  },
  {
   "cell_type": "code",
   "execution_count": 50,
   "id": "25be2723",
   "metadata": {},
   "outputs": [
    {
     "data": {
      "text/plain": [
       "'\\nfor node in tree.nodes\\n    if tree.is_leaf(node.id)\\n        p = tree[node.parent]\\n        \\n        p.default_left = False\\n        p.loss_chg = 0\\n        p.split_idx = 0\\n        \\n        // same with right\\n        if p.left == node.id:\\n            del node // no nead for recursive del\\n            right node = p.right\\n        \\n        if tree.is_leaf(p.right):\\n            final_tree = del tree[p.right] // normal del\\n        else:\\n            final_tree = recursive_del(p.right)\\n            \\n        p.left = -1\\n        p.right = -1\\n\\n        \\ndef recursive_del(id,tree):\\n    left = tree.left_child(id):\\n    right = tree.right_child(id):\\n\\n    if left.is_leaf() and right.is_leaf():\\n        a_tree = del(left.id, tree)\\n        b_tree = del(right.id,a_tree)\\n        return b_tree\\n        \\n    if left.is_leaf():\\n        left_del_tree = del(left.id, tree)\\n        new_tree = recursive_del(right.id, left_del_tree)\\n        return new_tree\\n        \\n    if right.is_leaf():\\n        right_del_tree = del(right.id, tree)\\n        new_tree = recursive_del(left.id, right_del_tree)\\n        return new_tree\\n    \\n    // todo add recursive del if both are not leaf nodes \\n    \\n    \\ndef del(id,tree):\\n    tree.num_nodes -= 1\\n    tree.nodes.pop(id)\\n'"
      ]
     },
     "execution_count": 50,
     "metadata": {},
     "output_type": "execute_result"
    }
   ],
   "source": [
    "# Psudoe code for deleting nodes for each tree (maybe)\n",
    "\n",
    "\"\"\"\n",
    "for node in tree.nodes\n",
    "    if tree.is_leaf(node.id)\n",
    "        p = tree[node.parent]\n",
    "        \n",
    "        p.default_left = False\n",
    "        p.loss_chg = 0\n",
    "        p.split_idx = 0\n",
    "        \n",
    "        // same with right\n",
    "        if p.left == node.id:\n",
    "            del node // no nead for recursive del\n",
    "            right node = p.right\n",
    "        \n",
    "        if tree.is_leaf(p.right):\n",
    "            final_tree = del tree[p.right] // normal del\n",
    "        else:\n",
    "            final_tree = recursive_del(p.right)\n",
    "            \n",
    "        p.left = -1\n",
    "        p.right = -1\n",
    "\n",
    "        \n",
    "def recursive_del(id,tree):\n",
    "    left = tree.left_child(id):\n",
    "    right = tree.right_child(id):\n",
    "\n",
    "    if left.is_leaf() and right.is_leaf():\n",
    "        a_tree = del(left.id, tree)\n",
    "        b_tree = del(right.id,a_tree)\n",
    "        return b_tree\n",
    "        \n",
    "    if left.is_leaf():\n",
    "        left_del_tree = del(left.id, tree)\n",
    "        new_tree = recursive_del(right.id, left_del_tree)\n",
    "        return new_tree\n",
    "        \n",
    "    if right.is_leaf():\n",
    "        right_del_tree = del(right.id, tree)\n",
    "        new_tree = recursive_del(left.id, right_del_tree)\n",
    "        return new_tree\n",
    "    \n",
    "    // todo add recursive del if both are not leaf nodes \n",
    "    \n",
    "    \n",
    "def del(id,tree):\n",
    "    tree.num_nodes -= 1\n",
    "    tree.nodes.pop(id)\n",
    "\"\"\""
   ]
  },
  {
   "cell_type": "code",
   "execution_count": null,
   "id": "40bbf124",
   "metadata": {},
   "outputs": [],
   "source": []
  }
 ],
 "metadata": {
  "kernelspec": {
   "display_name": "Python 3",
   "language": "python",
   "name": "python3"
  },
  "language_info": {
   "codemirror_mode": {
    "name": "ipython",
    "version": 3
   },
   "file_extension": ".py",
   "mimetype": "text/x-python",
   "name": "python",
   "nbconvert_exporter": "python",
   "pygments_lexer": "ipython3",
   "version": "3.9.7"
  }
 },
 "nbformat": 4,
 "nbformat_minor": 5
}
